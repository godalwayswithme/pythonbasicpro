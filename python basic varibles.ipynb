{
 "cells": [
  {
   "cell_type": "code",
   "execution_count": 2,
   "id": "d8d9db2d-fb1d-49d9-8266-416a1c855c18",
   "metadata": {},
   "outputs": [
    {
     "data": {
      "text/plain": [
       "3"
      ]
     },
     "execution_count": 2,
     "metadata": {},
     "output_type": "execute_result"
    }
   ],
   "source": [
    "1+2"
   ]
  },
  {
   "cell_type": "code",
   "execution_count": 3,
   "id": "7773c23e-a3b1-400c-946d-adefcfe9c2c6",
   "metadata": {},
   "outputs": [],
   "source": [
    "a=10 "
   ]
  },
  {
   "cell_type": "code",
   "execution_count": 4,
   "id": "99fbe981-a760-493d-a855-434771112f83",
   "metadata": {},
   "outputs": [
    {
     "data": {
      "text/plain": [
       "10"
      ]
     },
     "execution_count": 4,
     "metadata": {},
     "output_type": "execute_result"
    }
   ],
   "source": [
    "a"
   ]
  },
  {
   "cell_type": "code",
   "execution_count": 5,
   "id": "78593a57-41e6-45f2-85cf-2c13bacad3aa",
   "metadata": {},
   "outputs": [],
   "source": [
    "poonam=123456"
   ]
  },
  {
   "cell_type": "code",
   "execution_count": 6,
   "id": "635bbd09-0c41-4d0a-8f4b-bc003c5aebc0",
   "metadata": {},
   "outputs": [
    {
     "data": {
      "text/plain": [
       "123456"
      ]
     },
     "execution_count": 6,
     "metadata": {},
     "output_type": "execute_result"
    }
   ],
   "source": [
    "poonam"
   ]
  },
  {
   "cell_type": "code",
   "execution_count": 7,
   "id": "f1f347a8-86ed-4f8c-a79b-fb37ffe10fee",
   "metadata": {},
   "outputs": [
    {
     "data": {
      "text/plain": [
       "int"
      ]
     },
     "execution_count": 7,
     "metadata": {},
     "output_type": "execute_result"
    }
   ],
   "source": [
    "type(poonam)"
   ]
  },
  {
   "cell_type": "code",
   "execution_count": 8,
   "id": "2f86bff2-8c94-4bb5-9ecf-a113df1ade50",
   "metadata": {},
   "outputs": [],
   "source": [
    "a=20.345"
   ]
  },
  {
   "cell_type": "code",
   "execution_count": 9,
   "id": "043e8cca-05f9-40d9-8b31-2b360215df1d",
   "metadata": {},
   "outputs": [
    {
     "data": {
      "text/plain": [
       "20.345"
      ]
     },
     "execution_count": 9,
     "metadata": {},
     "output_type": "execute_result"
    }
   ],
   "source": [
    "a"
   ]
  },
  {
   "cell_type": "code",
   "execution_count": 10,
   "id": "78a2a985-d6d3-43b6-841e-3f8bd5241845",
   "metadata": {},
   "outputs": [],
   "source": [
    "s=\"pwskills\""
   ]
  },
  {
   "cell_type": "code",
   "execution_count": 11,
   "id": "7f5ea26a-9afc-4cc0-b996-4a89b2f240a4",
   "metadata": {},
   "outputs": [
    {
     "data": {
      "text/plain": [
       "str"
      ]
     },
     "execution_count": 11,
     "metadata": {},
     "output_type": "execute_result"
    }
   ],
   "source": [
    "type(s)"
   ]
  },
  {
   "cell_type": "code",
   "execution_count": 12,
   "id": "bd556dd5-e77a-4762-b3c7-6fe9b2c4fb63",
   "metadata": {},
   "outputs": [
    {
     "data": {
      "text/plain": [
       "'pwskills'"
      ]
     },
     "execution_count": 12,
     "metadata": {},
     "output_type": "execute_result"
    }
   ],
   "source": [
    "s"
   ]
  },
  {
   "cell_type": "code",
   "execution_count": 13,
   "id": "d22e0505-0ca5-4593-a4c7-e4d5a1295fca",
   "metadata": {},
   "outputs": [],
   "source": [
    "s1 = 'this is my first class pwskills'"
   ]
  },
  {
   "cell_type": "code",
   "execution_count": 14,
   "id": "85ff3b57-db88-423c-8f77-e0ffa0fb6386",
   "metadata": {},
   "outputs": [
    {
     "data": {
      "text/plain": [
       "'this is my first class pwskills'"
      ]
     },
     "execution_count": 14,
     "metadata": {},
     "output_type": "execute_result"
    }
   ],
   "source": [
    "s1"
   ]
  },
  {
   "cell_type": "code",
   "execution_count": 15,
   "id": "04ad800f-01bd-4275-bc7a-cb61f9d885a7",
   "metadata": {},
   "outputs": [
    {
     "data": {
      "text/plain": [
       "str"
      ]
     },
     "execution_count": 15,
     "metadata": {},
     "output_type": "execute_result"
    }
   ],
   "source": [
    "type(s1)"
   ]
  },
  {
   "cell_type": "code",
   "execution_count": 16,
   "id": "d71dec61-240c-4e5c-ac1b-f14df1fe1a7f",
   "metadata": {},
   "outputs": [],
   "source": [
    "f = 543.564"
   ]
  },
  {
   "cell_type": "code",
   "execution_count": 17,
   "id": "b529d1b4-f7b2-4b71-8a5d-1a9468326d12",
   "metadata": {},
   "outputs": [
    {
     "data": {
      "text/plain": [
       "float"
      ]
     },
     "execution_count": 17,
     "metadata": {},
     "output_type": "execute_result"
    }
   ],
   "source": [
    "type(f)"
   ]
  },
  {
   "cell_type": "code",
   "execution_count": 18,
   "id": "973b8129-d639-4ba3-87e4-47100ea82ba8",
   "metadata": {},
   "outputs": [],
   "source": [
    "c = 6+7j"
   ]
  },
  {
   "cell_type": "code",
   "execution_count": 19,
   "id": "a2c6cc03-ff43-4fc3-bd07-16686d2ca7df",
   "metadata": {},
   "outputs": [
    {
     "data": {
      "text/plain": [
       "complex"
      ]
     },
     "execution_count": 19,
     "metadata": {},
     "output_type": "execute_result"
    }
   ],
   "source": [
    "type(c)"
   ]
  },
  {
   "cell_type": "code",
   "execution_count": 20,
   "id": "113a19bc-c711-44d4-bbca-2cefdc3fe91e",
   "metadata": {},
   "outputs": [
    {
     "data": {
      "text/plain": [
       "(6+7j)"
      ]
     },
     "execution_count": 20,
     "metadata": {},
     "output_type": "execute_result"
    }
   ],
   "source": [
    "c"
   ]
  },
  {
   "cell_type": "code",
   "execution_count": 21,
   "id": "f48e19c7-f01e-4468-8daa-75f2a7885f20",
   "metadata": {},
   "outputs": [
    {
     "data": {
      "text/plain": [
       "6.0"
      ]
     },
     "execution_count": 21,
     "metadata": {},
     "output_type": "execute_result"
    }
   ],
   "source": [
    "c.real"
   ]
  },
  {
   "cell_type": "code",
   "execution_count": 23,
   "id": "e4cc969c-fdd9-4e48-b670-041904feddf3",
   "metadata": {},
   "outputs": [
    {
     "data": {
      "text/plain": [
       "7.0"
      ]
     },
     "execution_count": 23,
     "metadata": {},
     "output_type": "execute_result"
    }
   ],
   "source": [
    "c.imag"
   ]
  },
  {
   "cell_type": "code",
   "execution_count": 24,
   "id": "44323306-26bc-4b71-b964-f8460e8c1c96",
   "metadata": {},
   "outputs": [],
   "source": [
    "b = True"
   ]
  },
  {
   "cell_type": "code",
   "execution_count": 26,
   "id": "8cd01963-8eca-4ef7-908e-9b8a026ee7ca",
   "metadata": {},
   "outputs": [
    {
     "data": {
      "text/plain": [
       "bool"
      ]
     },
     "execution_count": 26,
     "metadata": {},
     "output_type": "execute_result"
    }
   ],
   "source": [
    "type(b)"
   ]
  },
  {
   "cell_type": "code",
   "execution_count": 27,
   "id": "4fe25858-635e-453b-b04b-de8c73f81027",
   "metadata": {},
   "outputs": [],
   "source": [
    "b1 = False"
   ]
  },
  {
   "cell_type": "code",
   "execution_count": 28,
   "id": "192de97b-3fa4-4984-956f-c027c9afd63a",
   "metadata": {},
   "outputs": [
    {
     "data": {
      "text/plain": [
       "False"
      ]
     },
     "execution_count": 28,
     "metadata": {},
     "output_type": "execute_result"
    }
   ],
   "source": [
    "b1"
   ]
  },
  {
   "cell_type": "code",
   "execution_count": 38,
   "id": "cc26fed4-c044-4101-bb49-2c27ccc68c7a",
   "metadata": {},
   "outputs": [
    {
     "data": {
      "text/plain": [
       "bool"
      ]
     },
     "execution_count": 38,
     "metadata": {},
     "output_type": "execute_result"
    }
   ],
   "source": [
    "type(b1)"
   ]
  },
  {
   "cell_type": "code",
   "execution_count": 40,
   "id": "30145ab3-13d8-4293-9bcf-8eaef075b540",
   "metadata": {},
   "outputs": [],
   "source": [
    "a1 = 45\n",
    "a2 = 43"
   ]
  },
  {
   "cell_type": "code",
   "execution_count": 42,
   "id": "5c92dcaf-03ee-42e5-b3be-a88f7966f4ef",
   "metadata": {},
   "outputs": [
    {
     "data": {
      "text/plain": [
       "88"
      ]
     },
     "execution_count": 42,
     "metadata": {},
     "output_type": "execute_result"
    }
   ],
   "source": [
    "a1+a2"
   ]
  },
  {
   "cell_type": "code",
   "execution_count": 43,
   "id": "19ed190c-e127-4e66-9cdb-ab7435c3481f",
   "metadata": {},
   "outputs": [
    {
     "data": {
      "text/plain": [
       "1935"
      ]
     },
     "execution_count": 43,
     "metadata": {},
     "output_type": "execute_result"
    }
   ],
   "source": [
    "a1*a2"
   ]
  },
  {
   "cell_type": "code",
   "execution_count": 50,
   "id": "b94d8856-9b35-443e-b09b-e84e093fc061",
   "metadata": {},
   "outputs": [
    {
     "data": {
      "text/plain": [
       "2"
      ]
     },
     "execution_count": 50,
     "metadata": {},
     "output_type": "execute_result"
    }
   ],
   "source": [
    "a1-a2"
   ]
  },
  {
   "cell_type": "code",
   "execution_count": 51,
   "id": "997b9a40-ca1f-4e35-a4fb-163f63e6854d",
   "metadata": {},
   "outputs": [],
   "source": [
    "a1 , a2 = 56,65"
   ]
  },
  {
   "cell_type": "code",
   "execution_count": 52,
   "id": "c2253b8c-6759-4aa2-bb97-d8500950faa6",
   "metadata": {},
   "outputs": [
    {
     "data": {
      "text/plain": [
       "56"
      ]
     },
     "execution_count": 52,
     "metadata": {},
     "output_type": "execute_result"
    }
   ],
   "source": [
    "a1"
   ]
  },
  {
   "cell_type": "code",
   "execution_count": 53,
   "id": "0a4f1e02-f881-4ceb-bdf6-770c73ca6265",
   "metadata": {},
   "outputs": [
    {
     "data": {
      "text/plain": [
       "65"
      ]
     },
     "execution_count": 53,
     "metadata": {},
     "output_type": "execute_result"
    }
   ],
   "source": [
    "a2"
   ]
  },
  {
   "cell_type": "code",
   "execution_count": 54,
   "id": "4cd57193-7d00-4c96-ad7a-10f0e6ce3d97",
   "metadata": {},
   "outputs": [],
   "source": [
    "a,b,c,d,= 453, \"poonam\", 56.43 , True"
   ]
  },
  {
   "cell_type": "code",
   "execution_count": 55,
   "id": "caad4255-b91a-4d94-82a6-feea903b5b2a",
   "metadata": {},
   "outputs": [
    {
     "data": {
      "text/plain": [
       "453"
      ]
     },
     "execution_count": 55,
     "metadata": {},
     "output_type": "execute_result"
    }
   ],
   "source": [
    "a"
   ]
  },
  {
   "cell_type": "code",
   "execution_count": 56,
   "id": "d40033a3-2ca0-410c-b095-fac0a2dc2490",
   "metadata": {},
   "outputs": [
    {
     "data": {
      "text/plain": [
       "'poonam'"
      ]
     },
     "execution_count": 56,
     "metadata": {},
     "output_type": "execute_result"
    }
   ],
   "source": [
    "b"
   ]
  },
  {
   "cell_type": "code",
   "execution_count": 57,
   "id": "5b196a55-596b-4f20-8614-44c4a16ea894",
   "metadata": {},
   "outputs": [
    {
     "data": {
      "text/plain": [
       "56.43"
      ]
     },
     "execution_count": 57,
     "metadata": {},
     "output_type": "execute_result"
    }
   ],
   "source": [
    "c"
   ]
  },
  {
   "cell_type": "code",
   "execution_count": 58,
   "id": "eecfa95b-eb03-4780-9480-c19c1e92a869",
   "metadata": {},
   "outputs": [
    {
     "data": {
      "text/plain": [
       "True"
      ]
     },
     "execution_count": 58,
     "metadata": {},
     "output_type": "execute_result"
    }
   ],
   "source": [
    "d"
   ]
  },
  {
   "cell_type": "code",
   "execution_count": 59,
   "id": "3aaca9cf-8d13-4cb6-8359-688d6e96273d",
   "metadata": {},
   "outputs": [],
   "source": [
    "b0 = 234"
   ]
  },
  {
   "cell_type": "code",
   "execution_count": 61,
   "id": "90ede839-281d-4bc2-90b7-09623ed08604",
   "metadata": {},
   "outputs": [],
   "source": [
    "_s =67"
   ]
  },
  {
   "cell_type": "code",
   "execution_count": 62,
   "id": "c5d0456a-017d-4cdf-9009-6f77d246c7a8",
   "metadata": {},
   "outputs": [],
   "source": [
    "int = 786"
   ]
  },
  {
   "cell_type": "code",
   "execution_count": 63,
   "id": "93f8b14a-6f72-46f1-a55c-d130fde2b1fe",
   "metadata": {},
   "outputs": [
    {
     "data": {
      "text/plain": [
       "786"
      ]
     },
     "execution_count": 63,
     "metadata": {},
     "output_type": "execute_result"
    }
   ],
   "source": [
    "int"
   ]
  },
  {
   "cell_type": "code",
   "execution_count": 64,
   "id": "2f4aead2-c7a3-4d2b-a1e3-7a2b4072dae1",
   "metadata": {},
   "outputs": [],
   "source": [
    "a1 = True"
   ]
  },
  {
   "cell_type": "code",
   "execution_count": 65,
   "id": "17980ea8-ac5d-4814-8a64-9ad74087546c",
   "metadata": {},
   "outputs": [],
   "source": [
    "a2 = False"
   ]
  },
  {
   "cell_type": "code",
   "execution_count": 66,
   "id": "8ad2d62d-2232-4a51-b84e-a28722d45793",
   "metadata": {},
   "outputs": [
    {
     "data": {
      "text/plain": [
       "1"
      ]
     },
     "execution_count": 66,
     "metadata": {},
     "output_type": "execute_result"
    }
   ],
   "source": [
    "a1 - a2"
   ]
  },
  {
   "cell_type": "code",
   "execution_count": 67,
   "id": "65ccaae2-d7ad-4afb-8034-6cc059548922",
   "metadata": {},
   "outputs": [
    {
     "data": {
      "text/plain": [
       "0"
      ]
     },
     "execution_count": 67,
     "metadata": {},
     "output_type": "execute_result"
    }
   ],
   "source": [
    "a1*a2"
   ]
  },
  {
   "cell_type": "code",
   "execution_count": 69,
   "id": "67d9e103-9241-408d-906d-2127e1b65ef5",
   "metadata": {},
   "outputs": [],
   "source": [
    "s1 = 'my name is poonam saini'"
   ]
  },
  {
   "cell_type": "code",
   "execution_count": 70,
   "id": "2f15ba80-42ea-4693-96aa-9b94890fbe3f",
   "metadata": {},
   "outputs": [
    {
     "data": {
      "text/plain": [
       "str"
      ]
     },
     "execution_count": 70,
     "metadata": {},
     "output_type": "execute_result"
    }
   ],
   "source": [
    "type(s1)"
   ]
  },
  {
   "cell_type": "code",
   "execution_count": 73,
   "id": "638d59ca-ab52-46ce-87ea-f664892bb29a",
   "metadata": {},
   "outputs": [],
   "source": [
    "s2 = \"this is my work computer's\""
   ]
  },
  {
   "cell_type": "code",
   "execution_count": 74,
   "id": "aa3128f4-16f1-4122-a598-089b4cbde3f8",
   "metadata": {},
   "outputs": [
    {
     "data": {
      "text/plain": [
       "\"this is my work computer's\""
      ]
     },
     "execution_count": 74,
     "metadata": {},
     "output_type": "execute_result"
    }
   ],
   "source": [
    "s2"
   ]
  },
  {
   "cell_type": "code",
   "execution_count": 75,
   "id": "4a0ee0ab-163c-4daa-a9a2-6c5a6fab1270",
   "metadata": {},
   "outputs": [],
   "source": [
    "s3 = 'this is my work computer\"s'"
   ]
  },
  {
   "cell_type": "code",
   "execution_count": 76,
   "id": "bc92b38f-1f34-4738-bfc6-85bfcd8d4b06",
   "metadata": {},
   "outputs": [
    {
     "data": {
      "text/plain": [
       "'this is my work computer\"s'"
      ]
     },
     "execution_count": 76,
     "metadata": {},
     "output_type": "execute_result"
    }
   ],
   "source": [
    "s3"
   ]
  },
  {
   "cell_type": "code",
   "execution_count": 79,
   "id": "706449b6-5bad-47b8-ad8c-35ab0c43a58a",
   "metadata": {},
   "outputs": [],
   "source": [
    "'''this is my first python class \n",
    "i am trying to learn variable declariton\n",
    "so far i have learnt int , boolean, string, complex number, float variable declaration'''\n",
    "a = 29"
   ]
  },
  {
   "cell_type": "code",
   "execution_count": 80,
   "id": "926b2394-43e7-4dae-9ea7-9b8fe94ff39e",
   "metadata": {},
   "outputs": [],
   "source": [
    "s1 =\" poonam\""
   ]
  },
  {
   "cell_type": "code",
   "execution_count": 82,
   "id": "fa57cfb0-f42f-48e9-a02b-bf00a7134d18",
   "metadata": {},
   "outputs": [],
   "source": [
    "a = \"saini\""
   ]
  },
  {
   "cell_type": "code",
   "execution_count": 84,
   "id": "011d2658-9da4-468f-98c6-fd838a9def72",
   "metadata": {},
   "outputs": [
    {
     "data": {
      "text/plain": [
       "' poonamsaini'"
      ]
     },
     "execution_count": 84,
     "metadata": {},
     "output_type": "execute_result"
    }
   ],
   "source": [
    "s1+ a"
   ]
  },
  {
   "cell_type": "code",
   "execution_count": 85,
   "id": "cd5cf862-acc5-4fa0-8a2d-3d0a766bc511",
   "metadata": {},
   "outputs": [
    {
     "data": {
      "text/plain": [
       "'saini'"
      ]
     },
     "execution_count": 85,
     "metadata": {},
     "output_type": "execute_result"
    }
   ],
   "source": [
    " a"
   ]
  },
  {
   "cell_type": "code",
   "execution_count": 86,
   "id": "2db5025a-0cc0-4984-8158-22801e279566",
   "metadata": {},
   "outputs": [
    {
     "data": {
      "text/plain": [
       "str"
      ]
     },
     "execution_count": 86,
     "metadata": {},
     "output_type": "execute_result"
    }
   ],
   "source": [
    "type(a)"
   ]
  },
  {
   "cell_type": "code",
   "execution_count": 87,
   "id": "b08be8dc-aeba-478d-b15d-3aa96229ce41",
   "metadata": {},
   "outputs": [
    {
     "data": {
      "text/plain": [
       "'poonamsaini'"
      ]
     },
     "execution_count": 87,
     "metadata": {},
     "output_type": "execute_result"
    }
   ],
   "source": [
    "'poonam' + 'saini'"
   ]
  },
  {
   "cell_type": "code",
   "execution_count": 88,
   "id": "7cb66319-27ac-4ad7-a73a-b20b1d2d66ad",
   "metadata": {},
   "outputs": [
    {
     "data": {
      "text/plain": [
       "' poonam10'"
      ]
     },
     "execution_count": 88,
     "metadata": {},
     "output_type": "execute_result"
    }
   ],
   "source": [
    "s1 + \"\"+ str(10)"
   ]
  },
  {
   "cell_type": "code",
   "execution_count": 91,
   "id": "845a83cc-5d5c-4b02-a002-b302dc7b75d6",
   "metadata": {},
   "outputs": [],
   "source": [
    "s = \"poonam\""
   ]
  },
  {
   "cell_type": "code",
   "execution_count": 92,
   "id": "cec291e9-a1b0-484c-aa9e-41334dbd38a8",
   "metadata": {},
   "outputs": [
    {
     "data": {
      "text/plain": [
       "'o'"
      ]
     },
     "execution_count": 92,
     "metadata": {},
     "output_type": "execute_result"
    }
   ],
   "source": [
    "s[1]"
   ]
  },
  {
   "cell_type": "code",
   "execution_count": 96,
   "id": "194a3269-0958-4d24-95aa-f4fd3d077986",
   "metadata": {},
   "outputs": [
    {
     "data": {
      "text/plain": [
       "'n'"
      ]
     },
     "execution_count": 96,
     "metadata": {},
     "output_type": "execute_result"
    }
   ],
   "source": [
    "s[3]"
   ]
  },
  {
   "cell_type": "code",
   "execution_count": 102,
   "id": "40586c7d-50c5-431e-b60e-b5f795cfcefe",
   "metadata": {},
   "outputs": [
    {
     "data": {
      "text/plain": [
       "'a'"
      ]
     },
     "execution_count": 102,
     "metadata": {},
     "output_type": "execute_result"
    }
   ],
   "source": [
    "s[-2]"
   ]
  },
  {
   "cell_type": "code",
   "execution_count": 104,
   "id": "9c748c55-fe9e-4e66-86a3-16270abc6749",
   "metadata": {},
   "outputs": [
    {
     "name": "stdin",
     "output_type": "stream",
     "text": [
      " 345\n"
     ]
    }
   ],
   "source": [
    "d  = input()"
   ]
  },
  {
   "cell_type": "code",
   "execution_count": 105,
   "id": "d4782531-2e66-4879-93a6-7605148e516b",
   "metadata": {},
   "outputs": [
    {
     "data": {
      "text/plain": [
       "'345'"
      ]
     },
     "execution_count": 105,
     "metadata": {},
     "output_type": "execute_result"
    }
   ],
   "source": [
    "d"
   ]
  },
  {
   "cell_type": "code",
   "execution_count": 106,
   "id": "0d497415-a171-491f-b699-da4f94af8424",
   "metadata": {},
   "outputs": [
    {
     "data": {
      "text/plain": [
       "str"
      ]
     },
     "execution_count": 106,
     "metadata": {},
     "output_type": "execute_result"
    }
   ],
   "source": [
    "type(d)"
   ]
  },
  {
   "cell_type": "code",
   "execution_count": 107,
   "id": "31a866b4-b8fe-49ad-8b76-65b68e3a18fb",
   "metadata": {},
   "outputs": [
    {
     "name": "stdin",
     "output_type": "stream",
     "text": [
      " 65775.6754\n"
     ]
    }
   ],
   "source": [
    "d = float(input())"
   ]
  },
  {
   "cell_type": "code",
   "execution_count": 108,
   "id": "f50d7184-9e2e-49e8-9e13-911d06fedde8",
   "metadata": {},
   "outputs": [
    {
     "data": {
      "text/plain": [
       "65775.6754"
      ]
     },
     "execution_count": 108,
     "metadata": {},
     "output_type": "execute_result"
    }
   ],
   "source": [
    "d"
   ]
  },
  {
   "cell_type": "code",
   "execution_count": 109,
   "id": "a03b4d19-4be6-48de-b1bf-7bf647da3723",
   "metadata": {},
   "outputs": [
    {
     "data": {
      "text/plain": [
       "float"
      ]
     },
     "execution_count": 109,
     "metadata": {},
     "output_type": "execute_result"
    }
   ],
   "source": [
    "type(d)"
   ]
  },
  {
   "cell_type": "code",
   "execution_count": 112,
   "id": "820e20a5-9720-4f7e-8cea-2fff3a531e0c",
   "metadata": {},
   "outputs": [
    {
     "name": "stdin",
     "output_type": "stream",
     "text": [
      " True\n"
     ]
    }
   ],
   "source": [
    "d = bool(input())"
   ]
  },
  {
   "cell_type": "code",
   "execution_count": 113,
   "id": "173daf13-7408-4ce0-988d-0b9786c21d5a",
   "metadata": {},
   "outputs": [
    {
     "data": {
      "text/plain": [
       "True"
      ]
     },
     "execution_count": 113,
     "metadata": {},
     "output_type": "execute_result"
    }
   ],
   "source": [
    "d"
   ]
  },
  {
   "cell_type": "code",
   "execution_count": 114,
   "id": "0c30d749-dab6-4ba3-9184-fc2c23ca16bd",
   "metadata": {},
   "outputs": [
    {
     "data": {
      "text/plain": [
       "bool"
      ]
     },
     "execution_count": 114,
     "metadata": {},
     "output_type": "execute_result"
    }
   ],
   "source": [
    "type(d)"
   ]
  },
  {
   "cell_type": "code",
   "execution_count": 115,
   "id": "c89b592f-a3a9-4b4b-b6b4-9bb1bb99309f",
   "metadata": {},
   "outputs": [],
   "source": [
    "s = \"poonam\""
   ]
  },
  {
   "cell_type": "code",
   "execution_count": 116,
   "id": "d5cd0984-deae-4e2d-9e41-e572612bbb58",
   "metadata": {},
   "outputs": [
    {
     "data": {
      "text/plain": [
       "'m'"
      ]
     },
     "execution_count": 116,
     "metadata": {},
     "output_type": "execute_result"
    }
   ],
   "source": [
    "s[5]"
   ]
  },
  {
   "cell_type": "code",
   "execution_count": 118,
   "id": "808c35e8-b780-43bd-944d-af5ba799fd4a",
   "metadata": {},
   "outputs": [
    {
     "data": {
      "text/plain": [
       "'a'"
      ]
     },
     "execution_count": 118,
     "metadata": {},
     "output_type": "execute_result"
    }
   ],
   "source": [
    "s[4]"
   ]
  },
  {
   "cell_type": "code",
   "execution_count": 119,
   "id": "9c8b0ae5-a397-42b8-9ff1-27c83eb0a185",
   "metadata": {},
   "outputs": [
    {
     "data": {
      "text/plain": [
       "'o'"
      ]
     },
     "execution_count": 119,
     "metadata": {},
     "output_type": "execute_result"
    }
   ],
   "source": [
    "s[-5]"
   ]
  },
  {
   "cell_type": "code",
   "execution_count": 121,
   "id": "28f55f3d-375a-4377-8dc0-d34d3c766b0e",
   "metadata": {},
   "outputs": [
    {
     "data": {
      "text/plain": [
       "'p'"
      ]
     },
     "execution_count": 121,
     "metadata": {},
     "output_type": "execute_result"
    }
   ],
   "source": [
    "s[-6]"
   ]
  },
  {
   "cell_type": "code",
   "execution_count": 122,
   "id": "7f5132c8-0b68-4d95-adfc-62313b9d4589",
   "metadata": {},
   "outputs": [],
   "source": [
    "s1 = \"pwskills\""
   ]
  },
  {
   "cell_type": "code",
   "execution_count": 125,
   "id": "d42b01c9-be79-4950-8ca6-7c14722c6d9d",
   "metadata": {},
   "outputs": [
    {
     "data": {
      "text/plain": [
       "'pw'"
      ]
     },
     "execution_count": 125,
     "metadata": {},
     "output_type": "execute_result"
    }
   ],
   "source": [
    "s1[0:2]"
   ]
  },
  {
   "cell_type": "code",
   "execution_count": 126,
   "id": "90a7b646-9b42-4969-bb84-d8b2350b97eb",
   "metadata": {},
   "outputs": [
    {
     "data": {
      "text/plain": [
       "'skill'"
      ]
     },
     "execution_count": 126,
     "metadata": {},
     "output_type": "execute_result"
    }
   ],
   "source": [
    "s1[2:7]"
   ]
  },
  {
   "cell_type": "code",
   "execution_count": 129,
   "id": "6634e3e6-1d8e-4bb6-ba28-da506db515ae",
   "metadata": {},
   "outputs": [
    {
     "data": {
      "text/plain": [
       "'skills'"
      ]
     },
     "execution_count": 129,
     "metadata": {},
     "output_type": "execute_result"
    }
   ],
   "source": [
    "s1[2:800]"
   ]
  },
  {
   "cell_type": "code",
   "execution_count": 130,
   "id": "57607670-bd75-4b0a-8a8e-e6a54d8b7499",
   "metadata": {},
   "outputs": [
    {
     "data": {
      "text/plain": [
       "'pwskill'"
      ]
     },
     "execution_count": 130,
     "metadata": {},
     "output_type": "execute_result"
    }
   ],
   "source": [
    "s1[0:7]"
   ]
  },
  {
   "cell_type": "code",
   "execution_count": 131,
   "id": "24e181d7-7b92-43d2-8ae5-0f3f2a26df5f",
   "metadata": {},
   "outputs": [
    {
     "data": {
      "text/plain": [
       "'psil'"
      ]
     },
     "execution_count": 131,
     "metadata": {},
     "output_type": "execute_result"
    }
   ],
   "source": [
    "s1[0:7:2]"
   ]
  },
  {
   "cell_type": "code",
   "execution_count": 133,
   "id": "e03febfb-07a0-4e5a-8c3a-2a985ae3e32f",
   "metadata": {},
   "outputs": [
    {
     "data": {
      "text/plain": [
       "'slli'"
      ]
     },
     "execution_count": 133,
     "metadata": {},
     "output_type": "execute_result"
    }
   ],
   "source": [
    "s1[7:3:-1]"
   ]
  },
  {
   "cell_type": "code",
   "execution_count": 136,
   "id": "34051c80-2570-4a5e-b122-5f2b94f29a77",
   "metadata": {},
   "outputs": [
    {
     "data": {
      "text/plain": [
       "'slli'"
      ]
     },
     "execution_count": 136,
     "metadata": {},
     "output_type": "execute_result"
    }
   ],
   "source": [
    "s1[-1:-5:-1]"
   ]
  },
  {
   "cell_type": "code",
   "execution_count": 138,
   "id": "49c17fb1-00ba-4d6f-970b-eecc075c48a1",
   "metadata": {},
   "outputs": [
    {
     "data": {
      "text/plain": [
       "'sllikswp'"
      ]
     },
     "execution_count": 138,
     "metadata": {},
     "output_type": "execute_result"
    }
   ],
   "source": [
    "s1[7:-9:-1]\n"
   ]
  },
  {
   "cell_type": "code",
   "execution_count": 139,
   "id": "71f718b9-ce2b-413d-aee4-3903a0abb909",
   "metadata": {},
   "outputs": [
    {
     "data": {
      "text/plain": [
       "'sllikswp'"
      ]
     },
     "execution_count": 139,
     "metadata": {},
     "output_type": "execute_result"
    }
   ],
   "source": [
    "s1[::-1]"
   ]
  },
  {
   "cell_type": "code",
   "execution_count": 143,
   "id": "2cefa505-1ec2-47ae-8333-f72a621be910",
   "metadata": {},
   "outputs": [
    {
     "data": {
      "text/plain": [
       "'p'"
      ]
     },
     "execution_count": 143,
     "metadata": {},
     "output_type": "execute_result"
    }
   ],
   "source": [
    "s1[0]"
   ]
  },
  {
   "cell_type": "code",
   "execution_count": null,
   "id": "1636cc4c-9012-4692-a9be-e406756a84a6",
   "metadata": {},
   "outputs": [],
   "source": []
  }
 ],
 "metadata": {
  "kernelspec": {
   "display_name": "Python 3 (ipykernel)",
   "language": "python",
   "name": "python3"
  },
  "language_info": {
   "codemirror_mode": {
    "name": "ipython",
    "version": 3
   },
   "file_extension": ".py",
   "mimetype": "text/x-python",
   "name": "python",
   "nbconvert_exporter": "python",
   "pygments_lexer": "ipython3",
   "version": "3.10.8"
  }
 },
 "nbformat": 4,
 "nbformat_minor": 5
}
